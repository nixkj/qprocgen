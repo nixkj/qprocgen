{
 "cells": [
  {
   "cell_type": "code",
   "execution_count": null,
   "metadata": {},
   "outputs": [],
   "source": [
    "from qiskit import QuantumCircuit, execute, Aer, IBMQ, ClassicalRegister, QuantumRegister\n",
    "import numpy as np\n",
    "\n",
    "from numpy import pi\n",
    "from numpy import sqrt\n",
    "from numpy import round"
   ]
  },
  {
   "cell_type": "code",
   "execution_count": null,
   "metadata": {},
   "outputs": [],
   "source": [
    "# Gives us a path of x,y coordinates to use as a seed\n",
    "seed = input('Provide a string seed of even length containing numbers 0-9: ')\n",
    "\n",
    "# check length of seed is even\n",
    "if  len(seed)%2 != 0:\n",
    "    raise Exception('String needs to be even in length')\n",
    "\n",
    "print(\"Seed is {}\", seed)"
   ]
  },
  {
   "cell_type": "code",
   "execution_count": null,
   "metadata": {},
   "outputs": [],
   "source": [
    "#SVG definitions\n",
    "xmlDecl = '<?xml version=\"1.0\" standalone=\"no\"?>'\n",
    "svgOpen = '<svg width=\"15cm\" height=\"15cm\" viewBox=\"0 0 1000 1000\" xmlns=\"http://www.w3.org/2000/svg\" version=\"1.1\"> '\n",
    "svgTitle = '  <title>Seed for SVG path was '+seed+'</title> '\n",
    "svgDescr = '  <desc>A path generated from a seed by a quantum algorithm</desc> '\n",
    "svgPathStart = '<path d=\"'\n",
    "svgPathEnd = '\" fill=\"rgb(255, 158, 44)\"  />'\n",
    "svgClose = '</svg>'"
   ]
  },
  {
   "cell_type": "code",
   "execution_count": null,
   "metadata": {},
   "outputs": [],
   "source": [
    "def svgPath(pathCoords, r=10, g=150, b=44):\n",
    "    \"\"\"\n",
    "    Function to generate an svg path element\n",
    "    \"\"\"\n",
    "    pathDef = ''.join(pathCoords)\n",
    "    pathString = '<path d=\"'+pathDef+'\" fill=\"rgb('+str(r)+', '+str(b)+', '+str(b)+')\"  /> '\n",
    "    return pathString\n"
   ]
  },
  {
   "cell_type": "code",
   "execution_count": null,
   "metadata": {},
   "outputs": [],
   "source": [
    "\n",
    "def get_variation(pos, seed=8):\n",
    "    \"\"\"\n",
    "    When passed a path coordinate will apply arbitrary rotation on the qubits to produce a new path coordinate\n",
    "    :param pos: The x, y coordinate\n",
    "    :param seed: A random value to influence the rotations\n",
    "    :return: Four values from the 2 bit quantum circuit\n",
    "    \"\"\"\n",
    "    (x, y) = pos\n",
    "\n",
    "    # initialize a circuit\n",
    "    # arbitrarily chosen to have 2 qubits\n",
    "    qc = QuantumCircuit(2, 2)\n",
    "\n",
    "    # fill the circuits with gates that depend on x,y and seed\n",
    "    # (arbitrarily chosen)\n",
    "    for j in range(seed):\n",
    "        qc.ry(x * pi / seed, 0)\n",
    "        qc.ry(y * pi / seed, 1)\n",
    "        qc.cx(0, 1)\n",
    "\n",
    "    # put in some measure gates so we can get an output\n",
    "    qc.measure(0, 0)\n",
    "    qc.measure(1, 1)\n",
    "\n",
    "    # run and get the counts dict\n",
    "    counts = execute(qc, Aer.get_backend('qasm_simulator')).result().get_counts()\n",
    "\n",
    "    # make sure that every possible output has a non-zero entry in the counts dict\n",
    "    for output in ['00', '10', '11', '01']:\n",
    "        if output not in counts:\n",
    "            counts[output] = 1\n",
    "\n",
    "    # use a couple of these numbers to define the 2D vector\n",
    "    # (arbitrarily chosen to be the counts for 00 and 11\n",
    "    # print(counts)\n",
    "    gradient = [counts['00'], counts['01'],counts['10'], counts['11']]\n",
    "    # normalize the vector\n",
    "    #TODO ue the other two measurements for colour genertion and randomness of path\n",
    "    length = sqrt(gradient[0] ** 2 + gradient[1] ** 2+gradient[2] ** 2 + gradient[3] ** 2)\n",
    "    gradient = [gradient[0] / length, gradient[1] / length, gradient[2] / length, gradient[3] / length]\n",
    "\n",
    "    # and output it\n",
    "    return gradient\n"
   ]
  },
  {
   "cell_type": "code",
   "execution_count": null,
   "metadata": {},
   "outputs": [],
   "source": []
  },
  {
   "cell_type": "code",
   "execution_count": null,
   "metadata": {},
   "outputs": [],
   "source": [
    "\n",
    "def generateQSeededPath(seededPathArr):\n",
    "    \"\"\"\n",
    "    When provided seed of path will pass each to the quantum circuit\n",
    "    :param seededPathArr: The user provided seed\n",
    "    :return: A new path generated from the quantum circuit\n",
    "    \"\"\"\n",
    "    _isFirst = True\n",
    "    ret_qPathDefArray = []\n",
    "\n",
    "    for idx in range(len(seededPathArr)):\n",
    "        if idx % 2 == 0:\n",
    "            x = int(seededPathArr[idx])\n",
    "            y = int(seededPathArr[idx + 1])\n",
    "\n",
    "            if _isFirst:\n",
    "                ret_qPathDefArray.append(' M ')\n",
    "                _isFirst = False\n",
    "            else:\n",
    "                ret_qPathDefArray.append(' L ')\n",
    "            # Vary adjacent path\n",
    "            newCoord = get_variation((x, y))\n",
    "\n",
    "            randomJiggle = np.random.choice(range(3))\n",
    "            ret_qPathDefArray.append(str(randomJiggle)+str(1000*round(newCoord[0], 2)))\n",
    "            ret_qPathDefArray.append(' ')\n",
    "\n",
    "            ret_qPathDefArray.append(str(1000*round(newCoord[1], 2)))\n",
    "            ret_qPathDefArray.append(' ')\n",
    "\n",
    "    return ret_qPathDefArray\n"
   ]
  },
  {
   "cell_type": "code",
   "execution_count": null,
   "metadata": {},
   "outputs": [],
   "source": [
    "\n",
    "# Generate svg and fill in the quantum generated paths\n",
    "f= open(\"qSeededSVG.svg\",\"w+\")\n",
    "f.write(xmlDecl)\n",
    "f.write(svgOpen)\n",
    "f.write(svgTitle)\n",
    "f.write(svgDescr)\n",
    "\n",
    "f.write('<g>')\n",
    "\n",
    "for i in range(30):\n",
    "    colour = list(np.random.choice(range(250), size=3))\n",
    "    colourR = list(np.random.choice(range(10), size=3))\n",
    "\n",
    "    f.write(svgPath(generateQSeededPath(seed), colourR[0], colour[1], colour[2]))\n",
    "\n",
    "f.write('</g>')\n",
    "f.write(svgClose)\n",
    "f.close()\n"
   ]
  },
  {
   "cell_type": "code",
   "execution_count": null,
   "metadata": {},
   "outputs": [],
   "source": []
  }
 ],
 "metadata": {
  "kernelspec": {
   "display_name": "Python 3",
   "language": "python",
   "name": "python3"
  },
  "language_info": {
   "codemirror_mode": {
    "name": "ipython",
    "version": 3
   },
   "file_extension": ".py",
   "mimetype": "text/x-python",
   "name": "python",
   "nbconvert_exporter": "python",
   "pygments_lexer": "ipython3",
   "version": "3.7.5"
  }
 },
 "nbformat": 4,
 "nbformat_minor": 2
}
